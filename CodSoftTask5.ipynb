{
  "nbformat": 4,
  "nbformat_minor": 0,
  "metadata": {
    "colab": {
      "provenance": [],
      "authorship_tag": "ABX9TyO5LeSm9SvGzOqKP+N/cC42",
      "include_colab_link": true
    },
    "kernelspec": {
      "name": "python3",
      "display_name": "Python 3"
    },
    "language_info": {
      "name": "python"
    }
  },
  "cells": [
    {
      "cell_type": "markdown",
      "metadata": {
        "id": "view-in-github",
        "colab_type": "text"
      },
      "source": [
        "<a href=\"https://colab.research.google.com/github/DKLavanya/CODSOFT/blob/main/CodSoft_Task_5.ipynb\" target=\"_parent\"><img src=\"https://colab.research.google.com/assets/colab-badge.svg\" alt=\"Open In Colab\"/></a>"
      ]
    },
    {
      "cell_type": "code",
      "execution_count": 1,
      "metadata": {
        "id": "T4u3tepKZVeh"
      },
      "outputs": [],
      "source": [
        "import pandas as pd\n",
        "from sklearn.preprocessing import StandardScaler\n",
        "from imblearn.over_sampling import SMOTE\n",
        "from sklearn.model_selection import train_test_split\n",
        "from sklearn.linear_model import LogisticRegression\n",
        "from sklearn.metrics import classification_report\n",
        "from sklearn.ensemble import RandomForestClassifier\n",
        "from sklearn.metrics import classification_report, confusion_matrix"
      ]
    },
    {
      "cell_type": "code",
      "source": [
        "df = pd.read_csv('/content/creditcard.csv')  # Replace with your file path\n",
        "\n",
        "# Display the first few rows of the dataset\n",
        "print(df.head())\n",
        "\n",
        "# Display basic statistics\n",
        "print(df.describe())\n"
      ],
      "metadata": {
        "colab": {
          "base_uri": "https://localhost:8080/"
        },
        "id": "6lNfKQHRaIME",
        "outputId": "f06ebe5d-25ed-4208-9506-b74058c2fdf9"
      },
      "execution_count": 2,
      "outputs": [
        {
          "output_type": "stream",
          "name": "stdout",
          "text": [
            "   Time        V1        V2        V3        V4        V5        V6        V7  \\\n",
            "0     0 -1.359807 -0.072781  2.536347  1.378155 -0.338321  0.462388  0.239599   \n",
            "1     0  1.191857  0.266151  0.166480  0.448154  0.060018 -0.082361 -0.078803   \n",
            "2     1 -1.358354 -1.340163  1.773209  0.379780 -0.503198  1.800499  0.791461   \n",
            "3     1 -0.966272 -0.185226  1.792993 -0.863291 -0.010309  1.247203  0.237609   \n",
            "4     2 -1.158233  0.877737  1.548718  0.403034 -0.407193  0.095921  0.592941   \n",
            "\n",
            "         V8        V9  ...       V21       V22       V23       V24       V25  \\\n",
            "0  0.098698  0.363787  ... -0.018307  0.277838 -0.110474  0.066928  0.128539   \n",
            "1  0.085102 -0.255425  ... -0.225775 -0.638672  0.101288 -0.339846  0.167170   \n",
            "2  0.247676 -1.514654  ...  0.247998  0.771679  0.909412 -0.689281 -0.327642   \n",
            "3  0.377436 -1.387024  ... -0.108300  0.005274 -0.190321 -1.175575  0.647376   \n",
            "4 -0.270533  0.817739  ... -0.009431  0.798278 -0.137458  0.141267 -0.206010   \n",
            "\n",
            "        V26       V27       V28  Amount  Class  \n",
            "0 -0.189115  0.133558 -0.021053  149.62    0.0  \n",
            "1  0.125895 -0.008983  0.014724    2.69    0.0  \n",
            "2 -0.139097 -0.055353 -0.059752  378.66    0.0  \n",
            "3 -0.221929  0.062723  0.061458  123.50    0.0  \n",
            "4  0.502292  0.219422  0.215153   69.99    0.0  \n",
            "\n",
            "[5 rows x 31 columns]\n",
            "                Time             V1             V2             V3  \\\n",
            "count  101105.000000  101105.000000  101105.000000  101105.000000   \n",
            "mean    42707.761743      -0.261114      -0.033099       0.681348   \n",
            "std     17151.524260       1.855406       1.652178       1.322789   \n",
            "min         0.000000     -56.407510     -72.715728     -33.680984   \n",
            "25%     33540.000000      -1.027912      -0.599797       0.178381   \n",
            "50%     44538.000000      -0.262492       0.075867       0.757766   \n",
            "75%     56272.000000       1.153574       0.733153       1.382607   \n",
            "max     67726.000000       1.960497      18.902453       4.226108   \n",
            "\n",
            "                  V4             V5             V6             V7  \\\n",
            "count  101105.000000  101105.000000  101105.000000  101105.000000   \n",
            "mean        0.158361      -0.281613       0.097321      -0.112561   \n",
            "std         1.348589       1.357435       1.302661       1.212789   \n",
            "min        -5.172595     -42.147898     -26.160506     -31.764946   \n",
            "25%        -0.715351      -0.903790      -0.645197      -0.604525   \n",
            "50%         0.186870      -0.316182      -0.153999      -0.071350   \n",
            "75%         1.029678       0.248352       0.491376       0.412229   \n",
            "max        16.715537      34.801666      22.529298      36.677268   \n",
            "\n",
            "                  V8             V9  ...            V21            V22  \\\n",
            "count  101105.000000  101105.000000  ...  101104.000000  101104.000000   \n",
            "mean        0.057581      -0.045523  ...      -0.030644      -0.105992   \n",
            "std         1.208281       1.119085  ...       0.718356       0.635604   \n",
            "min       -73.216718      -9.283925  ...     -34.830382     -10.933144   \n",
            "25%        -0.136434      -0.695851  ...      -0.223868      -0.529712   \n",
            "50%         0.075696      -0.115993  ...      -0.056773      -0.081433   \n",
            "75%         0.364539       0.559882  ...       0.120727       0.313182   \n",
            "max        20.007208      10.392889  ...      22.614889      10.503090   \n",
            "\n",
            "                 V23            V24            V25            V26  \\\n",
            "count  101104.000000  101104.000000  101104.000000  101104.000000   \n",
            "mean       -0.037573       0.009152       0.132925       0.026396   \n",
            "std         0.630822       0.595334       0.440769       0.493744   \n",
            "min       -44.807735      -2.836627     -10.295397      -2.534330   \n",
            "25%        -0.176973      -0.323376      -0.131291      -0.324386   \n",
            "50%        -0.049716       0.065023       0.171362      -0.070147   \n",
            "75%         0.080913       0.406381       0.420981       0.298860   \n",
            "max        19.002942       4.014444       5.541598       3.517346   \n",
            "\n",
            "                 V27            V28         Amount          Class  \n",
            "count  101104.000000  101104.000000  101104.000000  101104.000000  \n",
            "mean        0.001291       0.001742      97.483832       0.002216  \n",
            "std         0.393280       0.324271     264.244359       0.047018  \n",
            "min        -9.390980      -9.617915       0.000000       0.000000  \n",
            "25%        -0.062208      -0.005314       7.400000       0.000000  \n",
            "50%         0.010233       0.023325      25.980000       0.000000  \n",
            "75%         0.083900       0.076659      88.712500       0.000000  \n",
            "max        12.152401      33.847808   19656.530000       1.000000  \n",
            "\n",
            "[8 rows x 31 columns]\n"
          ]
        }
      ]
    },
    {
      "cell_type": "code",
      "source": [
        "df = df.dropna()"
      ],
      "metadata": {
        "id": "e2BWZK6raIOV"
      },
      "execution_count": 10,
      "outputs": []
    },
    {
      "cell_type": "code",
      "source": [
        "df = df.fillna(0)"
      ],
      "metadata": {
        "id": "k_3MdxFgirM0"
      },
      "execution_count": 11,
      "outputs": []
    },
    {
      "cell_type": "code",
      "source": [
        "df = df.interpolate()"
      ],
      "metadata": {
        "id": "RdSVZHXmirQY"
      },
      "execution_count": 12,
      "outputs": []
    },
    {
      "cell_type": "code",
      "source": [
        "X = df.drop('Class', axis=1)\n",
        "y = df['Class']\n",
        "\n",
        "# Normalize features\n",
        "scaler = StandardScaler()\n",
        "X_scaled = scaler.fit_transform(X)"
      ],
      "metadata": {
        "id": "n7gSCD8TaIRt"
      },
      "execution_count": 13,
      "outputs": []
    },
    {
      "cell_type": "code",
      "source": [
        "smote = SMOTE(random_state=42)\n",
        "X_resampled, y_resampled = smote.fit_resample(X_scaled, y)"
      ],
      "metadata": {
        "id": "KmawVKyHjAlp"
      },
      "execution_count": 16,
      "outputs": []
    },
    {
      "cell_type": "code",
      "source": [
        "X_train, X_test, y_train, y_test = train_test_split(X_resampled, y_resampled, test_size=0.2, random_state=42)"
      ],
      "metadata": {
        "id": "VszNi8d9aULb"
      },
      "execution_count": 17,
      "outputs": []
    },
    {
      "cell_type": "code",
      "source": [
        "log_reg = LogisticRegression(max_iter=1000)\n",
        "log_reg.fit(X_train, y_train)\n",
        "\n",
        "# Make predictions\n",
        "y_pred = log_reg.predict(X_test)\n",
        "\n",
        "# Evaluate the model\n",
        "print(classification_report(y_test, y_pred))"
      ],
      "metadata": {
        "colab": {
          "base_uri": "https://localhost:8080/"
        },
        "id": "jZ7E2DjxabJH",
        "outputId": "fc95ee7b-3ccd-4a35-eba3-210d99655c97"
      },
      "execution_count": 18,
      "outputs": [
        {
          "output_type": "stream",
          "name": "stdout",
          "text": [
            "              precision    recall  f1-score   support\n",
            "\n",
            "         0.0       0.95      0.98      0.96     20172\n",
            "         1.0       0.98      0.95      0.96     20180\n",
            "\n",
            "    accuracy                           0.96     40352\n",
            "   macro avg       0.96      0.96      0.96     40352\n",
            "weighted avg       0.96      0.96      0.96     40352\n",
            "\n"
          ]
        }
      ]
    },
    {
      "cell_type": "code",
      "source": [
        "rf = RandomForestClassifier(n_estimators=100, random_state=42)\n",
        "rf.fit(X_train, y_train)\n",
        "\n",
        "# Make predictions\n",
        "y_pred_rf = rf.predict(X_test)\n",
        "\n",
        "# Evaluate the model\n",
        "print(classification_report(y_test, y_pred_rf))"
      ],
      "metadata": {
        "colab": {
          "base_uri": "https://localhost:8080/"
        },
        "id": "oBeOZzwEabMj",
        "outputId": "02b75de9-0e63-47dd-9fdb-0bd078efc2c1"
      },
      "execution_count": 19,
      "outputs": [
        {
          "output_type": "stream",
          "name": "stdout",
          "text": [
            "              precision    recall  f1-score   support\n",
            "\n",
            "         0.0       1.00      1.00      1.00     20172\n",
            "         1.0       1.00      1.00      1.00     20180\n",
            "\n",
            "    accuracy                           1.00     40352\n",
            "   macro avg       1.00      1.00      1.00     40352\n",
            "weighted avg       1.00      1.00      1.00     40352\n",
            "\n"
          ]
        }
      ]
    },
    {
      "cell_type": "code",
      "source": [
        "print(\"Logistic Regression:\")\n",
        "print(classification_report(y_test, y_pred))"
      ],
      "metadata": {
        "colab": {
          "base_uri": "https://localhost:8080/"
        },
        "id": "0vKaGVMZahPP",
        "outputId": "22dfb3cd-8a1d-452c-eedc-edda4ac07704"
      },
      "execution_count": 20,
      "outputs": [
        {
          "output_type": "stream",
          "name": "stdout",
          "text": [
            "Logistic Regression:\n",
            "              precision    recall  f1-score   support\n",
            "\n",
            "         0.0       0.95      0.98      0.96     20172\n",
            "         1.0       0.98      0.95      0.96     20180\n",
            "\n",
            "    accuracy                           0.96     40352\n",
            "   macro avg       0.96      0.96      0.96     40352\n",
            "weighted avg       0.96      0.96      0.96     40352\n",
            "\n",
            "Random Forest:\n",
            "              precision    recall  f1-score   support\n",
            "\n",
            "         0.0       1.00      1.00      1.00     20172\n",
            "         1.0       1.00      1.00      1.00     20180\n",
            "\n",
            "    accuracy                           1.00     40352\n",
            "   macro avg       1.00      1.00      1.00     40352\n",
            "weighted avg       1.00      1.00      1.00     40352\n",
            "\n"
          ]
        }
      ]
    },
    {
      "cell_type": "code",
      "source": [
        "# Print classification report for Random Forest\n",
        "print(\"Random Forest:\")\n",
        "print(classification_report(y_test, y_pred_rf))"
      ],
      "metadata": {
        "colab": {
          "base_uri": "https://localhost:8080/"
        },
        "id": "DQxIm4v4mD3D",
        "outputId": "1069e693-fbf8-4745-b68b-feec0f5acebc"
      },
      "execution_count": 21,
      "outputs": [
        {
          "output_type": "stream",
          "name": "stdout",
          "text": [
            "Random Forest:\n",
            "              precision    recall  f1-score   support\n",
            "\n",
            "         0.0       1.00      1.00      1.00     20172\n",
            "         1.0       1.00      1.00      1.00     20180\n",
            "\n",
            "    accuracy                           1.00     40352\n",
            "   macro avg       1.00      1.00      1.00     40352\n",
            "weighted avg       1.00      1.00      1.00     40352\n",
            "\n"
          ]
        }
      ]
    }
  ]
}